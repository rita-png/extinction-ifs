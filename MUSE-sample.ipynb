{
 "cells": [
  {
   "cell_type": "code",
   "execution_count": 4,
   "id": "77766d4f",
   "metadata": {},
   "outputs": [
    {
     "name": "stdout",
     "output_type": "stream",
     "text": [
      "Median redshift (Ia): 0.0266 (N=327)\n",
      "Median redshift (Core-Collapse): 0.0134 (N=148)\n"
     ]
    }
   ],
   "source": [
    "import pandas as pd\n",
    "\n",
    "# Load CSV from URL\n",
    "url = \"https://github.com/amusing-muse/Characterization/blob/master/Sample_char/amusing_sample_char.csv?raw=true\"\n",
    "df = pd.read_csv(url)\n",
    "\n",
    "# Identify columns\n",
    "sn_type_col = df.columns[4]   # SN type column\n",
    "redshift_col = df.columns[1]  # redshift column\n",
    "\n",
    "# Clean columns\n",
    "df[sn_type_col] = df[sn_type_col].astype(str)\n",
    "df[redshift_col] = pd.to_numeric(df[redshift_col], errors=\"coerce\")  # force to float, drop bad\n",
    "\n",
    "# Select Ia: anything that contains 'Ia'\n",
    "df_Ia = df[df[sn_type_col].str.contains(\"Ia\", case=False, na=False)]\n",
    "\n",
    "# Select Core-Collapse: anything that contains 'Ib' or 'II'\n",
    "df_CC = df[df[sn_type_col].str.contains(\"Ib|II\", case=False, na=False)]\n",
    "\n",
    "# Compute medians (dropping NaN redshifts automatically)\n",
    "median_Ia = df_Ia[redshift_col].median()\n",
    "median_CC = df_CC[redshift_col].median()\n",
    "\n",
    "# Optional: counts\n",
    "n_Ia = df_Ia[redshift_col].count()\n",
    "n_CC = df_CC[redshift_col].count()\n",
    "\n",
    "print(f\"Median redshift (Ia): {median_Ia:.4f} (N={n_Ia})\")\n",
    "print(f\"Median redshift (Core-Collapse): {median_CC:.4f} (N={n_CC})\")"
   ]
  },
  {
   "cell_type": "code",
   "execution_count": null,
   "id": "adc4357d",
   "metadata": {},
   "outputs": [],
   "source": []
  },
  {
   "cell_type": "code",
   "execution_count": null,
   "id": "cc3989ca",
   "metadata": {},
   "outputs": [],
   "source": []
  }
 ],
 "metadata": {
  "kernelspec": {
   "display_name": "Python 3 (ipykernel)",
   "language": "python",
   "name": "python3"
  },
  "language_info": {
   "codemirror_mode": {
    "name": "ipython",
    "version": 3
   },
   "file_extension": ".py",
   "mimetype": "text/x-python",
   "name": "python",
   "nbconvert_exporter": "python",
   "pygments_lexer": "ipython3",
   "version": "3.9.12"
  }
 },
 "nbformat": 4,
 "nbformat_minor": 5
}
