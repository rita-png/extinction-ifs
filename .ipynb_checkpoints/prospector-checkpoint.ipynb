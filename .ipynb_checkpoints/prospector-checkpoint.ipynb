{
 "cells": [
  {
   "cell_type": "code",
   "execution_count": 1,
   "id": "10aeb886",
   "metadata": {},
   "outputs": [
    {
     "name": "stdout",
     "output_type": "stream",
     "text": [
      "1.4.0\n"
     ]
    }
   ],
   "source": [
    "import prospect\n",
    "print(prospect.__version__)\n",
    "\n",
    "import functions"
   ]
  },
  {
   "cell_type": "code",
   "execution_count": 30,
   "id": "ceb1b858",
   "metadata": {},
   "outputs": [],
   "source": [
    "import os\n",
    "os.environ['SPS_HOME'] = '/home/rita13santos/PhD/fsps'\n",
    "import fsps\n",
    "\n",
    "import dynesty\n",
    "import sedpy\n",
    "import h5py, astropy\n",
    "import numpy as np\n",
    "import astroquery"
   ]
  },
  {
   "cell_type": "code",
   "execution_count": null,
   "id": "b2b145f4",
   "metadata": {},
   "outputs": [],
   "source": []
  },
  {
   "cell_type": "markdown",
   "id": "0f481a57",
   "metadata": {},
   "source": [
    "Importing data"
   ]
  },
  {
   "cell_type": "code",
   "execution_count": 31,
   "id": "3d8e4a4a",
   "metadata": {},
   "outputs": [
    {
     "name": "stdout",
     "output_type": "stream",
     "text": [
      "(3681, 341, 604)\n",
      "[[     nan      nan      nan ...      nan      nan      nan]\n",
      " [     nan      nan      nan ...      nan      nan      nan]\n",
      " [     nan      nan      nan ...      nan      nan      nan]\n",
      " ...\n",
      " [     nan      nan      nan ... 69.65055      nan      nan]\n",
      " [     nan      nan      nan ... 68.30897      nan      nan]\n",
      " [     nan      nan      nan ...      nan      nan      nan]]\n",
      "91.866684\n"
     ]
    }
   ],
   "source": [
    "import astropy.io.fits as fits\n",
    "\n",
    "#import data\n",
    "file_name=\"../SN2010ev.fits\"\n",
    "data = fits.open(file_name)\n",
    "cube = data[1].data   # this is the cube, a (3681 x 341 x 604) matrix with fluxes at different 3681 wavelengths and 308 x 318 spatial pixels (\"spaxels\")\n",
    "header = data[1].header # this has information on the data cube\n",
    "ecube = data[2].data # this is the cube uncertainty (3681 x 341 x 604)\n",
    "print(np.shape(cube))\n",
    "\n",
    "\n",
    "print(cube[0])\n",
    "print(cube[0][200][300])\n",
    "\n",
    "x_len=len(cube[0][0])\n",
    "y_len=len(cube[0])\n",
    "\n",
    "#  -- following is to the get the wavelength array\n",
    "CRVAL = float(header[\"CRVAL3\"])\n",
    "NAXIS = int(header[\"NAXIS3\"])\n",
    "CDELT = float(header[\"CD3_3\"])\n",
    "CRPIX = float(header[\"CRPIX3\"])\n",
    "wave = np.array(CRVAL + CDELT * (np.arange(NAXIS) - CRPIX))"
   ]
  },
  {
   "cell_type": "code",
   "execution_count": 63,
   "id": "f0e94393",
   "metadata": {},
   "outputs": [],
   "source": [
    "x_center, y_center = int(x_len/2), int(y_len/2)\n",
    "x_half, y_half = 200, 200\n",
    "\n",
    "x_min = x_center - x_half\n",
    "x_max = x_center + x_half\n",
    "y_min = y_center - y_half\n",
    "y_max = y_center + y_half\n",
    "\n",
    "\n",
    "region = cube[:, y_min:y_max, x_min:x_max]\n",
    "region_err = ecube[:, y_min:y_max, x_min:x_max]\n",
    "\n",
    "flux = np.nansum(region, axis=(1, 2))\n",
    "err = np.nansum(region_err, axis=(1, 2))"
   ]
  },
  {
   "cell_type": "code",
   "execution_count": 64,
   "id": "76f18ebe",
   "metadata": {},
   "outputs": [
    {
     "data": {
      "text/plain": [
       "(3681, 30, 400)"
      ]
     },
     "execution_count": 64,
     "metadata": {},
     "output_type": "execute_result"
    }
   ],
   "source": [
    "np.shape(region)"
   ]
  },
  {
   "cell_type": "markdown",
   "id": "5f62d172",
   "metadata": {},
   "source": [
    "build observation"
   ]
  },
  {
   "cell_type": "code",
   "execution_count": 65,
   "id": "90f70e7b",
   "metadata": {},
   "outputs": [],
   "source": [
    "from sedpy.observate import load_filters\n",
    "from prospect.utils.obsutils import fix_obs\n",
    "\n",
    "\n",
    "obs = {\n",
    "    'wavelength': wave,\n",
    "    'spectrum': flux,\n",
    "    'unc': err,\n",
    "    'redshift': 0.009213,\n",
    "    'filters': None,\n",
    "    'phot_mask': None\n",
    "}\n",
    "\n",
    "obs['wavelength'] = np.array(obs['wavelength'], dtype=np.float64)\n",
    "obs['spectrum'] = np.array(obs['spectrum'], dtype=np.float64)"
   ]
  },
  {
   "cell_type": "markdown",
   "id": "ac0b6dd6",
   "metadata": {},
   "source": [
    "set model"
   ]
  },
  {
   "cell_type": "code",
   "execution_count": 66,
   "id": "628005df",
   "metadata": {},
   "outputs": [
    {
     "name": "stdout",
     "output_type": "stream",
     "text": [
      "{'zred': {'N': 1, 'isfree': False, 'init': 0.009213, 'units': 'redshift', 'prior': <class 'prospect.models.priors.TopHat'>(mini=0.0,maxi=4.0), 'name': 'zred'}, 'mass': {'N': 1, 'isfree': True, 'init': 10000000000.0, 'units': 'Solar masses formed', 'prior': <class 'prospect.models.priors.LogUniform'>(mini=100000000.0,maxi=1000000000000.0), 'name': 'mass'}, 'logzsol': {'N': 1, 'isfree': True, 'init': -0.5, 'units': '$\\\\log (Z/Z_\\\\odot)$', 'prior': <class 'prospect.models.priors.TopHat'>(mini=-2,maxi=0.19), 'name': 'logzsol'}, 'dust2': {'N': 1, 'isfree': True, 'init': 0.6, 'units': 'optical depth at 5500AA', 'prior': <class 'prospect.models.priors.TopHat'>(mini=0.0,maxi=2.0), 'name': 'dust2'}, 'sfh': {'N': 1, 'isfree': False, 'init': 4, 'units': 'FSPS index', 'name': 'sfh'}, 'tage': {'N': 1, 'isfree': True, 'init': 1, 'units': 'Gyr', 'prior': <class 'prospect.models.priors.TopHat'>(mini=0.001,maxi=13.8), 'name': 'tage'}, 'imf_type': {'N': 1, 'isfree': False, 'init': 2, 'name': 'imf_type'}, 'dust_type': {'N': 1, 'isfree': False, 'init': 2, 'name': 'dust_type'}, 'tau': {'N': 1, 'isfree': True, 'init': 1, 'units': 'Gyr^{-1}', 'prior': <class 'prospect.models.priors.LogUniform'>(mini=0.1,maxi=30), 'name': 'tau'}, 'dust_index': {'name': 'dust_index', 'N': 1, 'isfree': True, 'init': 0.0, 'prior': <class 'prospect.models.priors.TopHat'>(mini=-1.0,maxi=1.0), 'units': '', 'depends_on': None}}\n"
     ]
    }
   ],
   "source": [
    "from prospect.models.templates import TemplateLibrary\n",
    "from prospect.models.sedmodel import SedModel\n",
    "from prospect.models import priors\n",
    "\n",
    "model_params = TemplateLibrary['parametric_sfh']\n",
    "\n",
    "model_params['zred']['init'] = 0.009213\n",
    "model_params['dust_type']['init'] = 2  # Kriek & Conroy, allows for free R_V\n",
    "\n",
    "\n",
    "\n",
    "model_params['dust_index'] = {\n",
    "    'name': 'dust_index',\n",
    "    'N': 1,\n",
    "    'isfree': True,\n",
    "    'init': 0.0,  # FSPS default = Calzetti-like\n",
    "    'prior': priors.TopHat(mini=-1.0, maxi=1.0),  # Typical allowed range\n",
    "    'units': '',\n",
    "    'depends_on': None\n",
    "}\n",
    "\n",
    "for k, p in model_params.items():\n",
    "    if k in ['mass', 'logzsol', 'dust2', 'dust_index', 'tage']:\n",
    "        p['isfree'] = True\n",
    "    elif k == 'zred':\n",
    "        p['isfree'] = False\n",
    "\n",
    "\n",
    "model = SedModel(model_params)\n",
    "\n",
    "print(model_params)"
   ]
  },
  {
   "cell_type": "code",
   "execution_count": 67,
   "id": "5625d9ae",
   "metadata": {},
   "outputs": [
    {
     "name": "stdout",
     "output_type": "stream",
     "text": [
      ":::::::\n",
      "<class 'prospect.models.sedmodel.SedModel'>\n",
      "\n",
      "Free Parameters: (name: prior) \n",
      "-----------\n",
      "  mass: <class 'prospect.models.priors.LogUniform'>(mini=100000000.0,maxi=1000000000000.0)\n",
      "  logzsol: <class 'prospect.models.priors.TopHat'>(mini=-2,maxi=0.19)\n",
      "  dust2: <class 'prospect.models.priors.TopHat'>(mini=0.0,maxi=2.0)\n",
      "  tage: <class 'prospect.models.priors.TopHat'>(mini=0.001,maxi=13.8)\n",
      "  tau: <class 'prospect.models.priors.LogUniform'>(mini=0.1,maxi=30)\n",
      "  dust_index: <class 'prospect.models.priors.TopHat'>(mini=-1.0,maxi=1.0)\n",
      "\n",
      "Fixed Parameters: (name: value [, depends_on]) \n",
      "-----------\n",
      "  zred: [0.009213] \n",
      "  sfh: [4] \n",
      "  imf_type: [2] \n",
      "  dust_type: [2] \n"
     ]
    }
   ],
   "source": [
    "print(model)\n",
    "\n",
    "#mass: Total stellar mass formed (in solar masses)\n",
    "#logzsol: Logarithmic metallicity\n",
    "#dust2:  V-band dust attenuation (like A_V)\n",
    "#tage: Age of the galaxy (time since star formation began)\n",
    "#tau: Star formation timescale (for parametric SFHs, like τ-model)\n",
    "#dust_index:Slope of the dust curve (like R_V; only used with dust_type=2)"
   ]
  },
  {
   "cell_type": "code",
   "execution_count": 68,
   "id": "6dd4dd1e",
   "metadata": {},
   "outputs": [],
   "source": [
    "noise_model = (None, None)"
   ]
  },
  {
   "cell_type": "code",
   "execution_count": null,
   "id": "0590bd76",
   "metadata": {},
   "outputs": [],
   "source": []
  },
  {
   "cell_type": "code",
   "execution_count": null,
   "id": "a3723664",
   "metadata": {},
   "outputs": [],
   "source": []
  },
  {
   "cell_type": "code",
   "execution_count": 69,
   "id": "477eabe0",
   "metadata": {},
   "outputs": [
    {
     "name": "stdout",
     "output_type": "stream",
     "text": [
      "(b'mist', b'miles', b'DL07')\n"
     ]
    }
   ],
   "source": [
    "from prospect.sources import CSPSpecBasis\n",
    "sps = CSPSpecBasis(zcontinuous=1)\n",
    "print(sps.ssp.libraries)"
   ]
  },
  {
   "cell_type": "markdown",
   "id": "1abcff9b",
   "metadata": {},
   "source": [
    "make a prediction"
   ]
  },
  {
   "cell_type": "code",
   "execution_count": 70,
   "id": "bfb8bb4f",
   "metadata": {},
   "outputs": [
    {
     "name": "stdout",
     "output_type": "stream",
     "text": [
      "mass=10000000000.0,logzsol=-0.5,dust2=0.6,tage=1.0,tau=1.0,dust_index=0.0\n"
     ]
    }
   ],
   "source": [
    "current_parameters = \",\".join([f\"{p}={v}\" for p, v in zip(model.free_params, model.theta)])\n",
    "print(current_parameters)\n",
    "spec, phot, mfrac = model.predict(model.theta, obs=obs, sps=sps)"
   ]
  },
  {
   "cell_type": "markdown",
   "id": "0ee7f268",
   "metadata": {},
   "source": [
    "fit"
   ]
  },
  {
   "cell_type": "code",
   "execution_count": 72,
   "id": "114db6f1",
   "metadata": {},
   "outputs": [
    {
     "name": "stderr",
     "output_type": "stream",
     "text": [
      "iter: 405 | batch: 0 | nc: 1 | ncall: 2092 | eff(%): 19.359 | logz: -52338.685 +/-    nan | dlogz:  0.000 >  0.050     "
     ]
    },
    {
     "name": "stdout",
     "output_type": "stream",
     "text": [
      "\n",
      "done dynesty (initial) in 21.236449241638184s\n"
     ]
    },
    {
     "name": "stderr",
     "output_type": "stream",
     "text": [
      "iter: 1742 | batch: 6 | nc: 1 | ncall: 3443 | eff(%): 40.169 | loglstar:   -inf < -52338.680 < -52338.680 | logz: -52338.681 +/-  0.002 | stop:  1.119    "
     ]
    },
    {
     "name": "stdout",
     "output_type": "stream",
     "text": [
      "done dynesty (dynamic) in 9.068798780441284s\n"
     ]
    }
   ],
   "source": [
    "from prospect.fitting import lnprobfn, fit_model\n",
    "fitting_kwargs = dict(nlive_init=400, nested_method=\"rwalk\", nested_target_n_effective=1000, nested_dlogz_init=0.05)\n",
    "output = fit_model(obs, model, sps, optimize=False, dynesty=True, noise=noise_model, **fitting_kwargs,verbose=True)\n",
    "result, duration = output[\"sampling\"]"
   ]
  },
  {
   "cell_type": "code",
   "execution_count": null,
   "id": "1e5955f6",
   "metadata": {},
   "outputs": [],
   "source": []
  },
  {
   "cell_type": "code",
   "execution_count": null,
   "id": "e67ee9db",
   "metadata": {},
   "outputs": [],
   "source": []
  },
  {
   "cell_type": "code",
   "execution_count": null,
   "id": "27666202",
   "metadata": {},
   "outputs": [],
   "source": []
  }
 ],
 "metadata": {
  "kernelspec": {
   "display_name": "Python 3 (ipykernel)",
   "language": "python",
   "name": "python3"
  },
  "language_info": {
   "codemirror_mode": {
    "name": "ipython",
    "version": 3
   },
   "file_extension": ".py",
   "mimetype": "text/x-python",
   "name": "python",
   "nbconvert_exporter": "python",
   "pygments_lexer": "ipython3",
   "version": "3.9.12"
  }
 },
 "nbformat": 4,
 "nbformat_minor": 5
}
